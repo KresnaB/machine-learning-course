{
 "cells": [
  {
   "cell_type": "markdown",
   "id": "3e4a8bce",
   "metadata": {},
   "source": [
    "# Linear Regression Program 2\n",
    "## 9/03/2023\n",
    "### Program LR untuk variabel 2 atau lebih"
   ]
  },
  {
   "cell_type": "code",
   "execution_count": 4,
   "id": "e258e1fd",
   "metadata": {},
   "outputs": [],
   "source": [
    "import numpy as np\n",
    "from sklearn.linear_model import LinearRegression \n",
    "x = [[0,1], [5,1], [15,2], [25,5], [35,11], [45,15], [55,34], [60,35]]\n",
    "y = [4, 5, 20, 14, 32, 22, 38, 43]\n",
    "x, y = np.array(x), np.array(y) #dua atau lebih"
   ]
  },
  {
   "cell_type": "code",
   "execution_count": 5,
   "id": "3a7a37e9",
   "metadata": {},
   "outputs": [
    {
     "name": "stdout",
     "output_type": "stream",
     "text": [
      "coefficient of determination: 0.8615939258756775\n",
      "b0 (intercept): 5.52257927519819\n",
      "b1 & b2 (coefficient): [0.44706965 0.25502548]\n"
     ]
    }
   ],
   "source": [
    "model = LinearRegression().fit(x,y)\n",
    "r_sq = model.score(x, y)\n",
    "print(f\"coefficient of determination: {r_sq}\")\n",
    "print(f\"b0 (intercept): {model.intercept_}\")\n",
    "print(f\"b1 & b2 (coefficient): {model.coef_}\")"
   ]
  },
  {
   "cell_type": "code",
   "execution_count": 7,
   "id": "a98f0ee0",
   "metadata": {},
   "outputs": [
    {
     "name": "stdout",
     "output_type": "stream",
     "text": [
      "predicted response:\n",
      "[ 5.77760476  8.012953   12.73867497 17.9744479  23.97529728 29.4660957\n",
      " 38.78227633 41.27265006]\n",
      "predict:\n",
      "[[0 1]\n",
      " [2 3]\n",
      " [4 5]\n",
      " [6 7]\n",
      " [8 9]]\n",
      "predicted response:\n",
      "[ 5.77760476  7.18179502  8.58598528  9.99017554 11.3943658 ]\n"
     ]
    }
   ],
   "source": [
    "y_pred = model.predict(x)\n",
    "print(f\"predicted response:\\n{y_pred}\")\n",
    "x_new = np.arange(10).reshape((-1,2))\n",
    "print(f\"predict:\\n{x_new}\")\n",
    "y_new = model.predict(x_new)\n",
    "print(f\"predicted response:\\n{y_new}\")"
   ]
  }
 ],
 "metadata": {
  "kernelspec": {
   "display_name": "Python 3 (ipykernel)",
   "language": "python",
   "name": "python3"
  },
  "language_info": {
   "codemirror_mode": {
    "name": "ipython",
    "version": 3
   },
   "file_extension": ".py",
   "mimetype": "text/x-python",
   "name": "python",
   "nbconvert_exporter": "python",
   "pygments_lexer": "ipython3",
   "version": "3.10.9"
  }
 },
 "nbformat": 4,
 "nbformat_minor": 5
}
